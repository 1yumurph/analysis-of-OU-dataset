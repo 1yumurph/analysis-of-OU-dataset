{
 "cells": [
  {
   "cell_type": "markdown",
   "metadata": {},
   "source": [
    "# Habits of Successful Students"
   ]
  },
  {
   "cell_type": "markdown",
   "metadata": {},
   "source": [
    "<img src=\"https://i.imgur.com/fzDg1JH.png\" width=500 align=\"center\">"
   ]
  },
  {
   "cell_type": "markdown",
   "metadata": {},
   "source": [
    "# Contents\n",
    "<br>\n",
    "1. Problem Statement <br>\n",
    "2. What is Open University Learning Analytics dataset about? <br>\n",
    "3. Read this first <br> \n",
    "4. Methodology <br>\n",
    "5. Future Considerations (Executive Summary)<br> "
   ]
  },
  {
   "cell_type": "markdown",
   "metadata": {},
   "source": [
    "# 1. Problem Statement"
   ]
  },
  {
   "cell_type": "markdown",
   "metadata": {},
   "source": [
    "Don't you wish to get better grades in university? Every student has a strategy towards studying for their modules. Some methods include cramming or spacing out the revision of topics covered. This project aims towards studying the patterns of top students in a university and reconfirm existing tips that can help improve learning and score better grades. <br>"
   ]
  },
  {
   "cell_type": "markdown",
   "metadata": {},
   "source": [
    "# 2. What is Open University Learning Analytics dataset about?"
   ]
  },
  {
   "cell_type": "markdown",
   "metadata": {},
   "source": [
    "Open University Learning Analytics dataset contains information about 22 courses, 32,593 students, their assessment results, and logs of their interactions with the VLE represented by daily summaries of student clicks (10,655,280 entries). The dataset is divided into 7 csv files. <b>A thorough explanation of the dataset can be found here:</b> (https://analyse.kmi.open.ac.uk/open_dataset#description)"
   ]
  },
  {
   "cell_type": "markdown",
   "metadata": {},
   "source": [
    "### Why I chose this dataset"
   ]
  },
  {
   "cell_type": "markdown",
   "metadata": {},
   "source": [
    "I found it especially interesting as I always thought about how I could improve the way I study and get better grades in university. There are also many books and online courses out there that shares about different methods of studying and how to better retain information. Techniques such as spaced repetition and active recall leads to better long-term learning while cramming although highly effective for tests/exams, results in faster forgetting. My goal is to find out whether consistency in work will result in better grades. What are some of the habits that successful students have that allow them to get the grades they want? Are they just plain smarter? What kind of strategy do they use when it comes to studying for an important exam like finals? Do they do anything different from average students? "
   ]
  },
  {
   "cell_type": "markdown",
   "metadata": {},
   "source": [
    "<b>Dataset:</b> https://www.kaggle.com/rocki37/open-university-learning-analytics-dataset"
   ]
  },
  {
   "cell_type": "markdown",
   "metadata": {},
   "source": [
    "# 3. Read This First"
   ]
  },
  {
   "cell_type": "markdown",
   "metadata": {},
   "source": [
    "It can be quite hard to read code sometimes and to aid you in understanding my code and my process of thinking, <br> \n",
    "I have included my <b>explanation and thought process in <font color=green> green </font></b> and <b>weaved my insights and results as # comments or in <font color=blue> blue. </font></b> "
   ]
  },
  {
   "cell_type": "code",
   "execution_count": 36,
   "metadata": {},
   "outputs": [],
   "source": [
    "import numpy as np\n",
    "import seaborn as sns\n",
    "import matplotlib.pyplot as plt\n",
    "%matplotlib inline\n",
    "import pandas as pd \n",
    "vle_df = pd.read_csv('vle.csv')\n",
    "studentVle_df = pd.read_csv('studentVle.csv')\n",
    "studentInfo_df = pd.read_csv('studentInfo.csv')\n",
    "studentRegistration_df = pd.read_csv('studentRegistration.csv')\n",
    "assessments_df = pd.read_csv('assessments.csv')\n",
    "courses_df = pd.read_csv('courses.csv')"
   ]
  },
  {
   "cell_type": "markdown",
   "metadata": {},
   "source": [
    "# 4. Methodology"
   ]
  },
  {
   "cell_type": "markdown",
   "metadata": {},
   "source": [
    "## Breakdown of Module Types "
   ]
  },
  {
   "cell_type": "markdown",
   "metadata": {},
   "source": [
    "### Column Names <br>\n",
    "<font color=green>\n",
    "\n",
    "<b>code_module</b> - Total of 7 modules from AAA to GGG. <br> \n",
    "<b>code_presentation</b> – code name of the presentation. It consists of the year and “B” for the presentation starting in February and “J” for the presentation starting in October. <br>\n",
    "<b>module_presentation_length</b> - length of the module-presentation in days. <br> </font>"
   ]
  },
  {
   "cell_type": "markdown",
   "metadata": {},
   "source": [
    "<font color=green>Question: What does the code_presentation mean? Are there students retaking the same module? Let's find out! </font>"
   ]
  },
  {
   "cell_type": "code",
   "execution_count": 37,
   "metadata": {},
   "outputs": [
    {
     "data": {
      "text/html": [
       "<div>\n",
       "<style scoped>\n",
       "    .dataframe tbody tr th:only-of-type {\n",
       "        vertical-align: middle;\n",
       "    }\n",
       "\n",
       "    .dataframe tbody tr th {\n",
       "        vertical-align: top;\n",
       "    }\n",
       "\n",
       "    .dataframe thead th {\n",
       "        text-align: right;\n",
       "    }\n",
       "</style>\n",
       "<table border=\"1\" class=\"dataframe\">\n",
       "  <thead>\n",
       "    <tr style=\"text-align: right;\">\n",
       "      <th></th>\n",
       "      <th>code_module</th>\n",
       "      <th>code_presentation</th>\n",
       "      <th>module_presentation_length</th>\n",
       "    </tr>\n",
       "  </thead>\n",
       "  <tbody>\n",
       "    <tr>\n",
       "      <th>0</th>\n",
       "      <td>AAA</td>\n",
       "      <td>2013J</td>\n",
       "      <td>268</td>\n",
       "    </tr>\n",
       "    <tr>\n",
       "      <th>1</th>\n",
       "      <td>AAA</td>\n",
       "      <td>2014J</td>\n",
       "      <td>269</td>\n",
       "    </tr>\n",
       "    <tr>\n",
       "      <th>2</th>\n",
       "      <td>BBB</td>\n",
       "      <td>2013J</td>\n",
       "      <td>268</td>\n",
       "    </tr>\n",
       "    <tr>\n",
       "      <th>3</th>\n",
       "      <td>BBB</td>\n",
       "      <td>2014J</td>\n",
       "      <td>262</td>\n",
       "    </tr>\n",
       "    <tr>\n",
       "      <th>4</th>\n",
       "      <td>BBB</td>\n",
       "      <td>2013B</td>\n",
       "      <td>240</td>\n",
       "    </tr>\n",
       "    <tr>\n",
       "      <th>5</th>\n",
       "      <td>BBB</td>\n",
       "      <td>2014B</td>\n",
       "      <td>234</td>\n",
       "    </tr>\n",
       "    <tr>\n",
       "      <th>6</th>\n",
       "      <td>CCC</td>\n",
       "      <td>2014J</td>\n",
       "      <td>269</td>\n",
       "    </tr>\n",
       "    <tr>\n",
       "      <th>7</th>\n",
       "      <td>CCC</td>\n",
       "      <td>2014B</td>\n",
       "      <td>241</td>\n",
       "    </tr>\n",
       "    <tr>\n",
       "      <th>8</th>\n",
       "      <td>DDD</td>\n",
       "      <td>2013J</td>\n",
       "      <td>261</td>\n",
       "    </tr>\n",
       "    <tr>\n",
       "      <th>9</th>\n",
       "      <td>DDD</td>\n",
       "      <td>2014J</td>\n",
       "      <td>262</td>\n",
       "    </tr>\n",
       "    <tr>\n",
       "      <th>10</th>\n",
       "      <td>DDD</td>\n",
       "      <td>2013B</td>\n",
       "      <td>240</td>\n",
       "    </tr>\n",
       "    <tr>\n",
       "      <th>11</th>\n",
       "      <td>DDD</td>\n",
       "      <td>2014B</td>\n",
       "      <td>241</td>\n",
       "    </tr>\n",
       "    <tr>\n",
       "      <th>12</th>\n",
       "      <td>EEE</td>\n",
       "      <td>2013J</td>\n",
       "      <td>268</td>\n",
       "    </tr>\n",
       "    <tr>\n",
       "      <th>13</th>\n",
       "      <td>EEE</td>\n",
       "      <td>2014J</td>\n",
       "      <td>269</td>\n",
       "    </tr>\n",
       "    <tr>\n",
       "      <th>14</th>\n",
       "      <td>EEE</td>\n",
       "      <td>2014B</td>\n",
       "      <td>241</td>\n",
       "    </tr>\n",
       "    <tr>\n",
       "      <th>15</th>\n",
       "      <td>FFF</td>\n",
       "      <td>2013J</td>\n",
       "      <td>268</td>\n",
       "    </tr>\n",
       "    <tr>\n",
       "      <th>16</th>\n",
       "      <td>FFF</td>\n",
       "      <td>2014J</td>\n",
       "      <td>269</td>\n",
       "    </tr>\n",
       "    <tr>\n",
       "      <th>17</th>\n",
       "      <td>FFF</td>\n",
       "      <td>2013B</td>\n",
       "      <td>240</td>\n",
       "    </tr>\n",
       "    <tr>\n",
       "      <th>18</th>\n",
       "      <td>FFF</td>\n",
       "      <td>2014B</td>\n",
       "      <td>241</td>\n",
       "    </tr>\n",
       "    <tr>\n",
       "      <th>19</th>\n",
       "      <td>GGG</td>\n",
       "      <td>2013J</td>\n",
       "      <td>261</td>\n",
       "    </tr>\n",
       "    <tr>\n",
       "      <th>20</th>\n",
       "      <td>GGG</td>\n",
       "      <td>2014J</td>\n",
       "      <td>269</td>\n",
       "    </tr>\n",
       "    <tr>\n",
       "      <th>21</th>\n",
       "      <td>GGG</td>\n",
       "      <td>2014B</td>\n",
       "      <td>241</td>\n",
       "    </tr>\n",
       "  </tbody>\n",
       "</table>\n",
       "</div>"
      ],
      "text/plain": [
       "   code_module code_presentation  module_presentation_length\n",
       "0          AAA             2013J                         268\n",
       "1          AAA             2014J                         269\n",
       "2          BBB             2013J                         268\n",
       "3          BBB             2014J                         262\n",
       "4          BBB             2013B                         240\n",
       "5          BBB             2014B                         234\n",
       "6          CCC             2014J                         269\n",
       "7          CCC             2014B                         241\n",
       "8          DDD             2013J                         261\n",
       "9          DDD             2014J                         262\n",
       "10         DDD             2013B                         240\n",
       "11         DDD             2014B                         241\n",
       "12         EEE             2013J                         268\n",
       "13         EEE             2014J                         269\n",
       "14         EEE             2014B                         241\n",
       "15         FFF             2013J                         268\n",
       "16         FFF             2014J                         269\n",
       "17         FFF             2013B                         240\n",
       "18         FFF             2014B                         241\n",
       "19         GGG             2013J                         261\n",
       "20         GGG             2014J                         269\n",
       "21         GGG             2014B                         241"
      ]
     },
     "execution_count": 37,
     "metadata": {},
     "output_type": "execute_result"
    }
   ],
   "source": [
    "courses_df"
   ]
  },
  {
   "cell_type": "markdown",
   "metadata": {},
   "source": [
    "<font color=green>Viewing the studentRegistration database</font>"
   ]
  },
  {
   "cell_type": "code",
   "execution_count": 38,
   "metadata": {},
   "outputs": [
    {
     "data": {
      "text/html": [
       "<div>\n",
       "<style scoped>\n",
       "    .dataframe tbody tr th:only-of-type {\n",
       "        vertical-align: middle;\n",
       "    }\n",
       "\n",
       "    .dataframe tbody tr th {\n",
       "        vertical-align: top;\n",
       "    }\n",
       "\n",
       "    .dataframe thead th {\n",
       "        text-align: right;\n",
       "    }\n",
       "</style>\n",
       "<table border=\"1\" class=\"dataframe\">\n",
       "  <thead>\n",
       "    <tr style=\"text-align: right;\">\n",
       "      <th></th>\n",
       "      <th>code_module</th>\n",
       "      <th>code_presentation</th>\n",
       "      <th>id_student</th>\n",
       "      <th>date_registration</th>\n",
       "      <th>date_unregistration</th>\n",
       "    </tr>\n",
       "  </thead>\n",
       "  <tbody>\n",
       "    <tr>\n",
       "      <th>0</th>\n",
       "      <td>AAA</td>\n",
       "      <td>2013J</td>\n",
       "      <td>11391</td>\n",
       "      <td>-159.0</td>\n",
       "      <td>NaN</td>\n",
       "    </tr>\n",
       "    <tr>\n",
       "      <th>1</th>\n",
       "      <td>AAA</td>\n",
       "      <td>2013J</td>\n",
       "      <td>28400</td>\n",
       "      <td>-53.0</td>\n",
       "      <td>NaN</td>\n",
       "    </tr>\n",
       "    <tr>\n",
       "      <th>2</th>\n",
       "      <td>AAA</td>\n",
       "      <td>2013J</td>\n",
       "      <td>30268</td>\n",
       "      <td>-92.0</td>\n",
       "      <td>12.0</td>\n",
       "    </tr>\n",
       "    <tr>\n",
       "      <th>3</th>\n",
       "      <td>AAA</td>\n",
       "      <td>2013J</td>\n",
       "      <td>31604</td>\n",
       "      <td>-52.0</td>\n",
       "      <td>NaN</td>\n",
       "    </tr>\n",
       "    <tr>\n",
       "      <th>4</th>\n",
       "      <td>AAA</td>\n",
       "      <td>2013J</td>\n",
       "      <td>32885</td>\n",
       "      <td>-176.0</td>\n",
       "      <td>NaN</td>\n",
       "    </tr>\n",
       "  </tbody>\n",
       "</table>\n",
       "</div>"
      ],
      "text/plain": [
       "  code_module code_presentation  id_student  date_registration  \\\n",
       "0         AAA             2013J       11391             -159.0   \n",
       "1         AAA             2013J       28400              -53.0   \n",
       "2         AAA             2013J       30268              -92.0   \n",
       "3         AAA             2013J       31604              -52.0   \n",
       "4         AAA             2013J       32885             -176.0   \n",
       "\n",
       "   date_unregistration  \n",
       "0                  NaN  \n",
       "1                  NaN  \n",
       "2                 12.0  \n",
       "3                  NaN  \n",
       "4                  NaN  "
      ]
     },
     "execution_count": 38,
     "metadata": {},
     "output_type": "execute_result"
    }
   ],
   "source": [
    "studentRegistration_df.head()"
   ]
  },
  {
   "cell_type": "markdown",
   "metadata": {},
   "source": [
    "<font color=green><b>Question</b>: Are there students who take multiple modules in this dataset? (E.g student A takes AAA, BBB and GGG)\n",
    "<br> We filter for the first student to see if he/she takes more than 1 module.</font>"
   ]
  },
  {
   "cell_type": "code",
   "execution_count": 39,
   "metadata": {},
   "outputs": [
    {
     "data": {
      "text/html": [
       "<div>\n",
       "<style scoped>\n",
       "    .dataframe tbody tr th:only-of-type {\n",
       "        vertical-align: middle;\n",
       "    }\n",
       "\n",
       "    .dataframe tbody tr th {\n",
       "        vertical-align: top;\n",
       "    }\n",
       "\n",
       "    .dataframe thead th {\n",
       "        text-align: right;\n",
       "    }\n",
       "</style>\n",
       "<table border=\"1\" class=\"dataframe\">\n",
       "  <thead>\n",
       "    <tr style=\"text-align: right;\">\n",
       "      <th></th>\n",
       "      <th>code_module</th>\n",
       "      <th>code_presentation</th>\n",
       "      <th>id_student</th>\n",
       "      <th>date_registration</th>\n",
       "      <th>date_unregistration</th>\n",
       "    </tr>\n",
       "  </thead>\n",
       "  <tbody>\n",
       "    <tr>\n",
       "      <th>0</th>\n",
       "      <td>AAA</td>\n",
       "      <td>2013J</td>\n",
       "      <td>11391</td>\n",
       "      <td>-159.0</td>\n",
       "      <td>NaN</td>\n",
       "    </tr>\n",
       "  </tbody>\n",
       "</table>\n",
       "</div>"
      ],
      "text/plain": [
       "  code_module code_presentation  id_student  date_registration  \\\n",
       "0         AAA             2013J       11391             -159.0   \n",
       "\n",
       "   date_unregistration  \n",
       "0                  NaN  "
      ]
     },
     "execution_count": 39,
     "metadata": {},
     "output_type": "execute_result"
    }
   ],
   "source": [
    "student_11391 = studentRegistration_df['id_student'] == 11391\n",
    "filter_AAA = studentRegistration_df['code_module'] == 'AAA'\n",
    "studentRegistration_df[student_11391]\n",
    "# student 11391 only registered for 1 module 2013J \n",
    "# But what about 2014J?"
   ]
  },
  {
   "cell_type": "markdown",
   "metadata": {},
   "source": [
    "<font color=green>As we are focusing on Module AAA, let's see if module AAA has any students who took 2013J or 2014J.</font>"
   ]
  },
  {
   "cell_type": "code",
   "execution_count": 40,
   "metadata": {},
   "outputs": [
    {
     "data": {
      "text/html": [
       "<div>\n",
       "<style scoped>\n",
       "    .dataframe tbody tr th:only-of-type {\n",
       "        vertical-align: middle;\n",
       "    }\n",
       "\n",
       "    .dataframe tbody tr th {\n",
       "        vertical-align: top;\n",
       "    }\n",
       "\n",
       "    .dataframe thead th {\n",
       "        text-align: right;\n",
       "    }\n",
       "</style>\n",
       "<table border=\"1\" class=\"dataframe\">\n",
       "  <thead>\n",
       "    <tr style=\"text-align: right;\">\n",
       "      <th></th>\n",
       "      <th>code_module</th>\n",
       "      <th>code_presentation</th>\n",
       "      <th>id_student</th>\n",
       "      <th>date_registration</th>\n",
       "      <th>date_unregistration</th>\n",
       "    </tr>\n",
       "  </thead>\n",
       "  <tbody>\n",
       "  </tbody>\n",
       "</table>\n",
       "</div>"
      ],
      "text/plain": [
       "Empty DataFrame\n",
       "Columns: [code_module, code_presentation, id_student, date_registration, date_unregistration]\n",
       "Index: []"
      ]
     },
     "execution_count": 40,
     "metadata": {},
     "output_type": "execute_result"
    }
   ],
   "source": [
    "module_AAA = studentRegistration_df[filter_AAA]\n",
    "module_AAA[module_AAA.duplicated(keep=False)]\n",
    "\n",
    "# From this we can tell that 2013J and 2014J are 2 separate classes for the module AAA "
   ]
  },
  {
   "cell_type": "markdown",
   "metadata": {},
   "source": [
    "<font color=green>Let's take a look at the breakdown of assessment type for module AAA <br>\n",
    "<br>TMA = Tutor Marked Assessment\n",
    "<br>CMA = Computer Marked Assessment <br>\n",
    "<br>Over here we can see that the weightage of the assessments are divided to be low weightage at start and then \n",
    "<br>progressively higher weightage, exams are treated separately and have the full weight 100% </font>"
   ]
  },
  {
   "cell_type": "code",
   "execution_count": 41,
   "metadata": {},
   "outputs": [
    {
     "data": {
      "text/html": [
       "<div>\n",
       "<style scoped>\n",
       "    .dataframe tbody tr th:only-of-type {\n",
       "        vertical-align: middle;\n",
       "    }\n",
       "\n",
       "    .dataframe tbody tr th {\n",
       "        vertical-align: top;\n",
       "    }\n",
       "\n",
       "    .dataframe thead th {\n",
       "        text-align: right;\n",
       "    }\n",
       "</style>\n",
       "<table border=\"1\" class=\"dataframe\">\n",
       "  <thead>\n",
       "    <tr style=\"text-align: right;\">\n",
       "      <th></th>\n",
       "      <th>code_module</th>\n",
       "      <th>code_presentation</th>\n",
       "      <th>id_assessment</th>\n",
       "      <th>assessment_type</th>\n",
       "      <th>date</th>\n",
       "      <th>weight</th>\n",
       "    </tr>\n",
       "  </thead>\n",
       "  <tbody>\n",
       "    <tr>\n",
       "      <th>0</th>\n",
       "      <td>AAA</td>\n",
       "      <td>2013J</td>\n",
       "      <td>1752</td>\n",
       "      <td>TMA</td>\n",
       "      <td>19.0</td>\n",
       "      <td>10.0</td>\n",
       "    </tr>\n",
       "    <tr>\n",
       "      <th>1</th>\n",
       "      <td>AAA</td>\n",
       "      <td>2013J</td>\n",
       "      <td>1753</td>\n",
       "      <td>TMA</td>\n",
       "      <td>54.0</td>\n",
       "      <td>20.0</td>\n",
       "    </tr>\n",
       "    <tr>\n",
       "      <th>2</th>\n",
       "      <td>AAA</td>\n",
       "      <td>2013J</td>\n",
       "      <td>1754</td>\n",
       "      <td>TMA</td>\n",
       "      <td>117.0</td>\n",
       "      <td>20.0</td>\n",
       "    </tr>\n",
       "    <tr>\n",
       "      <th>3</th>\n",
       "      <td>AAA</td>\n",
       "      <td>2013J</td>\n",
       "      <td>1755</td>\n",
       "      <td>TMA</td>\n",
       "      <td>166.0</td>\n",
       "      <td>20.0</td>\n",
       "    </tr>\n",
       "    <tr>\n",
       "      <th>4</th>\n",
       "      <td>AAA</td>\n",
       "      <td>2013J</td>\n",
       "      <td>1756</td>\n",
       "      <td>TMA</td>\n",
       "      <td>215.0</td>\n",
       "      <td>30.0</td>\n",
       "    </tr>\n",
       "    <tr>\n",
       "      <th>5</th>\n",
       "      <td>AAA</td>\n",
       "      <td>2013J</td>\n",
       "      <td>1757</td>\n",
       "      <td>Exam</td>\n",
       "      <td>NaN</td>\n",
       "      <td>100.0</td>\n",
       "    </tr>\n",
       "    <tr>\n",
       "      <th>6</th>\n",
       "      <td>AAA</td>\n",
       "      <td>2014J</td>\n",
       "      <td>1758</td>\n",
       "      <td>TMA</td>\n",
       "      <td>19.0</td>\n",
       "      <td>10.0</td>\n",
       "    </tr>\n",
       "    <tr>\n",
       "      <th>7</th>\n",
       "      <td>AAA</td>\n",
       "      <td>2014J</td>\n",
       "      <td>1759</td>\n",
       "      <td>TMA</td>\n",
       "      <td>54.0</td>\n",
       "      <td>20.0</td>\n",
       "    </tr>\n",
       "    <tr>\n",
       "      <th>8</th>\n",
       "      <td>AAA</td>\n",
       "      <td>2014J</td>\n",
       "      <td>1760</td>\n",
       "      <td>TMA</td>\n",
       "      <td>117.0</td>\n",
       "      <td>20.0</td>\n",
       "    </tr>\n",
       "    <tr>\n",
       "      <th>9</th>\n",
       "      <td>AAA</td>\n",
       "      <td>2014J</td>\n",
       "      <td>1761</td>\n",
       "      <td>TMA</td>\n",
       "      <td>166.0</td>\n",
       "      <td>20.0</td>\n",
       "    </tr>\n",
       "    <tr>\n",
       "      <th>10</th>\n",
       "      <td>AAA</td>\n",
       "      <td>2014J</td>\n",
       "      <td>1762</td>\n",
       "      <td>TMA</td>\n",
       "      <td>215.0</td>\n",
       "      <td>30.0</td>\n",
       "    </tr>\n",
       "    <tr>\n",
       "      <th>11</th>\n",
       "      <td>AAA</td>\n",
       "      <td>2014J</td>\n",
       "      <td>1763</td>\n",
       "      <td>Exam</td>\n",
       "      <td>NaN</td>\n",
       "      <td>100.0</td>\n",
       "    </tr>\n",
       "  </tbody>\n",
       "</table>\n",
       "</div>"
      ],
      "text/plain": [
       "   code_module code_presentation  id_assessment assessment_type   date  weight\n",
       "0          AAA             2013J           1752             TMA   19.0    10.0\n",
       "1          AAA             2013J           1753             TMA   54.0    20.0\n",
       "2          AAA             2013J           1754             TMA  117.0    20.0\n",
       "3          AAA             2013J           1755             TMA  166.0    20.0\n",
       "4          AAA             2013J           1756             TMA  215.0    30.0\n",
       "5          AAA             2013J           1757            Exam    NaN   100.0\n",
       "6          AAA             2014J           1758             TMA   19.0    10.0\n",
       "7          AAA             2014J           1759             TMA   54.0    20.0\n",
       "8          AAA             2014J           1760             TMA  117.0    20.0\n",
       "9          AAA             2014J           1761             TMA  166.0    20.0\n",
       "10         AAA             2014J           1762             TMA  215.0    30.0\n",
       "11         AAA             2014J           1763            Exam    NaN   100.0"
      ]
     },
     "execution_count": 41,
     "metadata": {},
     "output_type": "execute_result"
    }
   ],
   "source": [
    "assessment_breakdown = assessments_df['code_module'] == 'AAA'\n",
    "module_A = assessments_df[assessment_breakdown]\n",
    "module_A"
   ]
  },
  {
   "cell_type": "markdown",
   "metadata": {},
   "source": [
    "<font color=green><b>Question:</b> Exactly how many students take Module AAA? \n",
    "Let's find out! </font>"
   ]
  },
  {
   "cell_type": "code",
   "execution_count": 42,
   "metadata": {},
   "outputs": [
    {
     "data": {
      "text/html": [
       "<div>\n",
       "<style scoped>\n",
       "    .dataframe tbody tr th:only-of-type {\n",
       "        vertical-align: middle;\n",
       "    }\n",
       "\n",
       "    .dataframe tbody tr th {\n",
       "        vertical-align: top;\n",
       "    }\n",
       "\n",
       "    .dataframe thead th {\n",
       "        text-align: right;\n",
       "    }\n",
       "</style>\n",
       "<table border=\"1\" class=\"dataframe\">\n",
       "  <thead>\n",
       "    <tr style=\"text-align: right;\">\n",
       "      <th></th>\n",
       "      <th>code_module</th>\n",
       "      <th>code_presentation</th>\n",
       "      <th>id_student</th>\n",
       "      <th>gender</th>\n",
       "      <th>region</th>\n",
       "      <th>highest_education</th>\n",
       "      <th>imd_band</th>\n",
       "      <th>age_band</th>\n",
       "      <th>num_of_prev_attempts</th>\n",
       "      <th>studied_credits</th>\n",
       "      <th>disability</th>\n",
       "      <th>final_result</th>\n",
       "    </tr>\n",
       "  </thead>\n",
       "  <tbody>\n",
       "    <tr>\n",
       "      <th>0</th>\n",
       "      <td>AAA</td>\n",
       "      <td>2013J</td>\n",
       "      <td>11391</td>\n",
       "      <td>M</td>\n",
       "      <td>East Anglian Region</td>\n",
       "      <td>HE Qualification</td>\n",
       "      <td>90-100%</td>\n",
       "      <td>55&lt;=</td>\n",
       "      <td>0</td>\n",
       "      <td>240</td>\n",
       "      <td>N</td>\n",
       "      <td>Pass</td>\n",
       "    </tr>\n",
       "    <tr>\n",
       "      <th>1</th>\n",
       "      <td>AAA</td>\n",
       "      <td>2013J</td>\n",
       "      <td>28400</td>\n",
       "      <td>F</td>\n",
       "      <td>Scotland</td>\n",
       "      <td>HE Qualification</td>\n",
       "      <td>20-30%</td>\n",
       "      <td>35-55</td>\n",
       "      <td>0</td>\n",
       "      <td>60</td>\n",
       "      <td>N</td>\n",
       "      <td>Pass</td>\n",
       "    </tr>\n",
       "    <tr>\n",
       "      <th>2</th>\n",
       "      <td>AAA</td>\n",
       "      <td>2013J</td>\n",
       "      <td>30268</td>\n",
       "      <td>F</td>\n",
       "      <td>North Western Region</td>\n",
       "      <td>A Level or Equivalent</td>\n",
       "      <td>30-40%</td>\n",
       "      <td>35-55</td>\n",
       "      <td>0</td>\n",
       "      <td>60</td>\n",
       "      <td>Y</td>\n",
       "      <td>Withdrawn</td>\n",
       "    </tr>\n",
       "    <tr>\n",
       "      <th>3</th>\n",
       "      <td>AAA</td>\n",
       "      <td>2013J</td>\n",
       "      <td>31604</td>\n",
       "      <td>F</td>\n",
       "      <td>South East Region</td>\n",
       "      <td>A Level or Equivalent</td>\n",
       "      <td>50-60%</td>\n",
       "      <td>35-55</td>\n",
       "      <td>0</td>\n",
       "      <td>60</td>\n",
       "      <td>N</td>\n",
       "      <td>Pass</td>\n",
       "    </tr>\n",
       "    <tr>\n",
       "      <th>4</th>\n",
       "      <td>AAA</td>\n",
       "      <td>2013J</td>\n",
       "      <td>32885</td>\n",
       "      <td>F</td>\n",
       "      <td>West Midlands Region</td>\n",
       "      <td>Lower Than A Level</td>\n",
       "      <td>50-60%</td>\n",
       "      <td>0-35</td>\n",
       "      <td>0</td>\n",
       "      <td>60</td>\n",
       "      <td>N</td>\n",
       "      <td>Pass</td>\n",
       "    </tr>\n",
       "  </tbody>\n",
       "</table>\n",
       "</div>"
      ],
      "text/plain": [
       "  code_module code_presentation  id_student gender                region  \\\n",
       "0         AAA             2013J       11391      M   East Anglian Region   \n",
       "1         AAA             2013J       28400      F              Scotland   \n",
       "2         AAA             2013J       30268      F  North Western Region   \n",
       "3         AAA             2013J       31604      F     South East Region   \n",
       "4         AAA             2013J       32885      F  West Midlands Region   \n",
       "\n",
       "       highest_education imd_band age_band  num_of_prev_attempts  \\\n",
       "0       HE Qualification  90-100%     55<=                     0   \n",
       "1       HE Qualification   20-30%    35-55                     0   \n",
       "2  A Level or Equivalent   30-40%    35-55                     0   \n",
       "3  A Level or Equivalent   50-60%    35-55                     0   \n",
       "4     Lower Than A Level   50-60%     0-35                     0   \n",
       "\n",
       "   studied_credits disability final_result  \n",
       "0              240          N         Pass  \n",
       "1               60          N         Pass  \n",
       "2               60          Y    Withdrawn  \n",
       "3               60          N         Pass  \n",
       "4               60          N         Pass  "
      ]
     },
     "execution_count": 42,
     "metadata": {},
     "output_type": "execute_result"
    }
   ],
   "source": [
    "filter_A = studentInfo_df['code_module'] == 'AAA'\n",
    "module_A_results = studentInfo_df[filter_A]\n",
    "module_A_results.head()"
   ]
  },
  {
   "cell_type": "code",
   "execution_count": 43,
   "metadata": {},
   "outputs": [
    {
     "data": {
      "text/plain": [
       "(748, 12)"
      ]
     },
     "execution_count": 43,
     "metadata": {},
     "output_type": "execute_result"
    }
   ],
   "source": [
    "module_A_results.shape\n",
    "# From here we discover that there are 748 students who took Module AAA "
   ]
  },
  {
   "cell_type": "markdown",
   "metadata": {},
   "source": [
    "## Narrowing focus to Module AAA "
   ]
  },
  {
   "cell_type": "markdown",
   "metadata": {},
   "source": [
    "<font color=green>Now that we know that there are 748 students who take Module AAA, what is the <b>number of students who scored distinction in Module AAA?</b></font>"
   ]
  },
  {
   "cell_type": "code",
   "execution_count": 44,
   "metadata": {},
   "outputs": [
    {
     "data": {
      "text/plain": [
       "<pandas.core.groupby.generic.DataFrameGroupBy object at 0x0000027F11993898>"
      ]
     },
     "execution_count": 44,
     "metadata": {},
     "output_type": "execute_result"
    }
   ],
   "source": [
    "module_A_results = module_A_results.groupby('final_result')\n",
    "module_A_results"
   ]
  },
  {
   "cell_type": "code",
   "execution_count": 45,
   "metadata": {},
   "outputs": [
    {
     "data": {
      "text/plain": [
       "final_result\n",
       "Distinction     44\n",
       "Fail            91\n",
       "Pass           487\n",
       "Withdrawn      126\n",
       "dtype: int64"
      ]
     },
     "execution_count": 45,
     "metadata": {},
     "output_type": "execute_result"
    }
   ],
   "source": [
    "module_A_results = module_A_results.size()\n",
    "module_A_results\n",
    "# Volia! There are 44 students who scored distinction! "
   ]
  },
  {
   "cell_type": "markdown",
   "metadata": {},
   "source": [
    "<font color=green>Now let's plot this on a bar graph to show the results</font>"
   ]
  },
  {
   "cell_type": "code",
   "execution_count": 46,
   "metadata": {},
   "outputs": [
    {
     "data": {
      "image/png": "[encoded data removed]",
      "text/plain": [
       "<Figure size 864x720 with 1 Axes>"
      ]
     },
     "metadata": {
      "needs_background": "light"
     },
     "output_type": "display_data"
    }
   ],
   "source": [
    "fig= plt.figure(figsize=(12,10))\n",
    "result_order = ['Withdrawn', 'Fail', 'Pass', 'Distinction']\n",
    "module_A_results.loc[result_order].plot(kind = 'bar', color = ['#cccccc', '#cccccc', '#cccccc', '#003366'], fontsize=14)\n",
    "\n",
    "xs = np.arange(4)\n",
    "ys = np.array([126, 91, 487, 44])\n",
    "\n",
    "plt.xticks(rotation='horizontal')\n",
    "plt.xlabel(' ', fontsize=14)\n",
    "plt.ylabel('No. of Students', fontsize=14)\n",
    "\n",
    "\n",
    "for x,y in zip(xs,ys):\n",
    "\n",
    "    label = \"{:}\".format(y)\n",
    "\n",
    "    plt.annotate(label, # this is the text\n",
    "                 (x,y), # this is the point to label\n",
    "                 textcoords=\"offset points\", # how to position the text\n",
    "                 xytext=(0,10), # distance from text to points (x,y)\n",
    "                 ha='center',fontsize=13) # horizontal alignment can be left, right or center\n",
    "plt.title('44/748 students scored a distinction in Module AAA', loc='center',pad=15, fontsize=20);"
   ]
  },
  {
   "cell_type": "markdown",
   "metadata": {},
   "source": [
    "## Finding top activity among students "
   ]
  },
  {
   "cell_type": "markdown",
   "metadata": {},
   "source": [
    "<font color=green><b>Question:</b> Which activity is the most popular among students taking Module AAA? \n",
    "<br>\n",
    "To answer this question, we first need to filter for Module AAA and left join studentVle.csv with vle.csv, extracting the activity type </font>"
   ]
  },
  {
   "cell_type": "code",
   "execution_count": 47,
   "metadata": {},
   "outputs": [
    {
     "data": {
      "text/html": [
       "<div>\n",
       "<style scoped>\n",
       "    .dataframe tbody tr th:only-of-type {\n",
       "        vertical-align: middle;\n",
       "    }\n",
       "\n",
       "    .dataframe tbody tr th {\n",
       "        vertical-align: top;\n",
       "    }\n",
       "\n",
       "    .dataframe thead th {\n",
       "        text-align: right;\n",
       "    }\n",
       "</style>\n",
       "<table border=\"1\" class=\"dataframe\">\n",
       "  <thead>\n",
       "    <tr style=\"text-align: right;\">\n",
       "      <th></th>\n",
       "      <th>code_module</th>\n",
       "      <th>code_presentation</th>\n",
       "      <th>id_student</th>\n",
       "      <th>id_site</th>\n",
       "      <th>date</th>\n",
       "      <th>sum_click</th>\n",
       "      <th>activity_type</th>\n",
       "    </tr>\n",
       "  </thead>\n",
       "  <tbody>\n",
       "    <tr>\n",
       "      <th>0</th>\n",
       "      <td>AAA</td>\n",
       "      <td>2013J</td>\n",
       "      <td>28400</td>\n",
       "      <td>546652</td>\n",
       "      <td>-10</td>\n",
       "      <td>4</td>\n",
       "      <td>forumng</td>\n",
       "    </tr>\n",
       "    <tr>\n",
       "      <th>1</th>\n",
       "      <td>AAA</td>\n",
       "      <td>2013J</td>\n",
       "      <td>28400</td>\n",
       "      <td>546652</td>\n",
       "      <td>-10</td>\n",
       "      <td>1</td>\n",
       "      <td>forumng</td>\n",
       "    </tr>\n",
       "    <tr>\n",
       "      <th>2</th>\n",
       "      <td>AAA</td>\n",
       "      <td>2013J</td>\n",
       "      <td>28400</td>\n",
       "      <td>546652</td>\n",
       "      <td>-10</td>\n",
       "      <td>1</td>\n",
       "      <td>forumng</td>\n",
       "    </tr>\n",
       "    <tr>\n",
       "      <th>3</th>\n",
       "      <td>AAA</td>\n",
       "      <td>2013J</td>\n",
       "      <td>28400</td>\n",
       "      <td>546614</td>\n",
       "      <td>-10</td>\n",
       "      <td>11</td>\n",
       "      <td>homepage</td>\n",
       "    </tr>\n",
       "    <tr>\n",
       "      <th>4</th>\n",
       "      <td>AAA</td>\n",
       "      <td>2013J</td>\n",
       "      <td>28400</td>\n",
       "      <td>546714</td>\n",
       "      <td>-10</td>\n",
       "      <td>1</td>\n",
       "      <td>oucontent</td>\n",
       "    </tr>\n",
       "  </tbody>\n",
       "</table>\n",
       "</div>"
      ],
      "text/plain": [
       "  code_module code_presentation  id_student  id_site  date  sum_click  \\\n",
       "0         AAA             2013J       28400   546652   -10          4   \n",
       "1         AAA             2013J       28400   546652   -10          1   \n",
       "2         AAA             2013J       28400   546652   -10          1   \n",
       "3         AAA             2013J       28400   546614   -10         11   \n",
       "4         AAA             2013J       28400   546714   -10          1   \n",
       "\n",
       "  activity_type  \n",
       "0       forumng  \n",
       "1       forumng  \n",
       "2       forumng  \n",
       "3      homepage  \n",
       "4     oucontent  "
      ]
     },
     "execution_count": 47,
     "metadata": {},
     "output_type": "execute_result"
    }
   ],
   "source": [
    "filter_A_vle = studentVle_df['code_module'] == 'AAA'\n",
    "studentVle_df = studentVle_df[filter_A_vle]\n",
    "\n",
    "studentVle_merge_df = studentVle_df.merge(vle_df[['id_site', 'activity_type']], on='id_site', how='left')\n",
    "studentVle_merge_df.head()"
   ]
  },
  {
   "cell_type": "code",
   "execution_count": 48,
   "metadata": {},
   "outputs": [
    {
     "data": {
      "text/html": [
       "<div>\n",
       "<style scoped>\n",
       "    .dataframe tbody tr th:only-of-type {\n",
       "        vertical-align: middle;\n",
       "    }\n",
       "\n",
       "    .dataframe tbody tr th {\n",
       "        vertical-align: top;\n",
       "    }\n",
       "\n",
       "    .dataframe thead th {\n",
       "        text-align: right;\n",
       "    }\n",
       "</style>\n",
       "<table border=\"1\" class=\"dataframe\">\n",
       "  <thead>\n",
       "    <tr style=\"text-align: right;\">\n",
       "      <th></th>\n",
       "      <th>activity_type</th>\n",
       "      <th>sum_click</th>\n",
       "      <th>percentage</th>\n",
       "    </tr>\n",
       "  </thead>\n",
       "  <tbody>\n",
       "    <tr>\n",
       "      <th>0</th>\n",
       "      <td>dataplus</td>\n",
       "      <td>3398</td>\n",
       "      <td>0.27</td>\n",
       "    </tr>\n",
       "    <tr>\n",
       "      <th>1</th>\n",
       "      <td>forumng</td>\n",
       "      <td>337103</td>\n",
       "      <td>27.04</td>\n",
       "    </tr>\n",
       "    <tr>\n",
       "      <th>2</th>\n",
       "      <td>glossary</td>\n",
       "      <td>656</td>\n",
       "      <td>0.05</td>\n",
       "    </tr>\n",
       "    <tr>\n",
       "      <th>3</th>\n",
       "      <td>homepage</td>\n",
       "      <td>266720</td>\n",
       "      <td>21.39</td>\n",
       "    </tr>\n",
       "    <tr>\n",
       "      <th>4</th>\n",
       "      <td>oucollaborate</td>\n",
       "      <td>498</td>\n",
       "      <td>0.04</td>\n",
       "    </tr>\n",
       "    <tr>\n",
       "      <th>5</th>\n",
       "      <td>oucontent</td>\n",
       "      <td>523394</td>\n",
       "      <td>41.98</td>\n",
       "    </tr>\n",
       "    <tr>\n",
       "      <th>6</th>\n",
       "      <td>resource</td>\n",
       "      <td>14924</td>\n",
       "      <td>1.20</td>\n",
       "    </tr>\n",
       "    <tr>\n",
       "      <th>7</th>\n",
       "      <td>subpage</td>\n",
       "      <td>71582</td>\n",
       "      <td>5.74</td>\n",
       "    </tr>\n",
       "    <tr>\n",
       "      <th>8</th>\n",
       "      <td>url</td>\n",
       "      <td>28377</td>\n",
       "      <td>2.28</td>\n",
       "    </tr>\n",
       "  </tbody>\n",
       "</table>\n",
       "</div>"
      ],
      "text/plain": [
       "   activity_type  sum_click  percentage\n",
       "0       dataplus       3398        0.27\n",
       "1        forumng     337103       27.04\n",
       "2       glossary        656        0.05\n",
       "3       homepage     266720       21.39\n",
       "4  oucollaborate        498        0.04\n",
       "5      oucontent     523394       41.98\n",
       "6       resource      14924        1.20\n",
       "7        subpage      71582        5.74\n",
       "8            url      28377        2.28"
      ]
     },
     "execution_count": 48,
     "metadata": {},
     "output_type": "execute_result"
    }
   ],
   "source": [
    "overall_activity = pd.DataFrame(studentVle_merge_df.groupby(['activity_type'])['sum_click'].sum()).reset_index()\n",
    "overall_activity['percentage'] = round(overall_activity['sum_click'] / overall_activity['sum_click'].sum() * 100,2)\n",
    "overall_activity"
   ]
  },
  {
   "cell_type": "markdown",
   "metadata": {},
   "source": [
    "<font color=blue> Below, we can see that <b>oucontent</b> (I think it stands for open university content) is the <b>top category for students</b> taking this module. Not surprising to see so since viewing module content is the top reason why we visit an elearning site. <b>Forumng ranks at number 2 at 27%.</b> My guess is that this probably is some discussion forum about the topic that students visit to clarify their doubts or to interact with their lecturers on the online platform. The third ranked page is the homepage which needs no explanation since it is a landing page for the vle(virtual learning environment) "
   ]
  },
  {
   "cell_type": "markdown",
   "metadata": {},
   "source": [
    "<font color=green> I used a highlight table and sorted it according to the percentage to find the top 3 activities that students interact with </font>"
   ]
  },
  {
   "cell_type": "code",
   "execution_count": 49,
   "metadata": {},
   "outputs": [
    {
     "data": {
      "text/html": [
       "<style  type=\"text/css\" >\n",
       "    #T_d46b6ee8_f11a_11e9_be34_54e1ad623274row0_col1 {\n",
       "            background-color:  #004529;\n",
       "            color:  #f1f1f1;\n",
       "        }    #T_d46b6ee8_f11a_11e9_be34_54e1ad623274row0_col2 {\n",
       "            background-color:  #004529;\n",
       "            color:  #f1f1f1;\n",
       "        }    #T_d46b6ee8_f11a_11e9_be34_54e1ad623274row1_col1 {\n",
       "            background-color:  #3da559;\n",
       "            color:  #000000;\n",
       "        }    #T_d46b6ee8_f11a_11e9_be34_54e1ad623274row1_col2 {\n",
       "            background-color:  #3da559;\n",
       "            color:  #000000;\n",
       "        }    #T_d46b6ee8_f11a_11e9_be34_54e1ad623274row2_col1 {\n",
       "            background-color:  #74c477;\n",
       "            color:  #000000;\n",
       "        }    #T_d46b6ee8_f11a_11e9_be34_54e1ad623274row2_col2 {\n",
       "            background-color:  #74c477;\n",
       "            color:  #000000;\n",
       "        }    #T_d46b6ee8_f11a_11e9_be34_54e1ad623274row3_col1 {\n",
       "            background-color:  #f5fbb8;\n",
       "            color:  #000000;\n",
       "        }    #T_d46b6ee8_f11a_11e9_be34_54e1ad623274row3_col2 {\n",
       "            background-color:  #f5fbb8;\n",
       "            color:  #000000;\n",
       "        }    #T_d46b6ee8_f11a_11e9_be34_54e1ad623274row4_col1 {\n",
       "            background-color:  #fcfed3;\n",
       "            color:  #000000;\n",
       "        }    #T_d46b6ee8_f11a_11e9_be34_54e1ad623274row4_col2 {\n",
       "            background-color:  #fcfed3;\n",
       "            color:  #000000;\n",
       "        }    #T_d46b6ee8_f11a_11e9_be34_54e1ad623274row5_col1 {\n",
       "            background-color:  #fdfedb;\n",
       "            color:  #000000;\n",
       "        }    #T_d46b6ee8_f11a_11e9_be34_54e1ad623274row5_col2 {\n",
       "            background-color:  #fdfedb;\n",
       "            color:  #000000;\n",
       "        }    #T_d46b6ee8_f11a_11e9_be34_54e1ad623274row6_col1 {\n",
       "            background-color:  #ffffe4;\n",
       "            color:  #000000;\n",
       "        }    #T_d46b6ee8_f11a_11e9_be34_54e1ad623274row6_col2 {\n",
       "            background-color:  #ffffe4;\n",
       "            color:  #000000;\n",
       "        }    #T_d46b6ee8_f11a_11e9_be34_54e1ad623274row7_col1 {\n",
       "            background-color:  #ffffe5;\n",
       "            color:  #000000;\n",
       "        }    #T_d46b6ee8_f11a_11e9_be34_54e1ad623274row7_col2 {\n",
       "            background-color:  #ffffe5;\n",
       "            color:  #000000;\n",
       "        }    #T_d46b6ee8_f11a_11e9_be34_54e1ad623274row8_col1 {\n",
       "            background-color:  #ffffe5;\n",
       "            color:  #000000;\n",
       "        }    #T_d46b6ee8_f11a_11e9_be34_54e1ad623274row8_col2 {\n",
       "            background-color:  #ffffe5;\n",
       "            color:  #000000;\n",
       "        }</style><table id=\"T_d46b6ee8_f11a_11e9_be34_54e1ad623274\" ><thead>    <tr>        <th class=\"blank level0\" ></th>        <th class=\"col_heading level0 col0\" >activity_type</th>        <th class=\"col_heading level0 col1\" >sum_click</th>        <th class=\"col_heading level0 col2\" >percentage</th>    </tr></thead><tbody>\n",
       "                <tr>\n",
       "                        <th id=\"T_d46b6ee8_f11a_11e9_be34_54e1ad623274level0_row0\" class=\"row_heading level0 row0\" >5</th>\n",
       "                        <td id=\"T_d46b6ee8_f11a_11e9_be34_54e1ad623274row0_col0\" class=\"data row0 col0\" >oucontent</td>\n",
       "                        <td id=\"T_d46b6ee8_f11a_11e9_be34_54e1ad623274row0_col1\" class=\"data row0 col1\" >523394</td>\n",
       "                        <td id=\"T_d46b6ee8_f11a_11e9_be34_54e1ad623274row0_col2\" class=\"data row0 col2\" >41.98</td>\n",
       "            </tr>\n",
       "            <tr>\n",
       "                        <th id=\"T_d46b6ee8_f11a_11e9_be34_54e1ad623274level0_row1\" class=\"row_heading level0 row1\" >1</th>\n",
       "                        <td id=\"T_d46b6ee8_f11a_11e9_be34_54e1ad623274row1_col0\" class=\"data row1 col0\" >forumng</td>\n",
       "                        <td id=\"T_d46b6ee8_f11a_11e9_be34_54e1ad623274row1_col1\" class=\"data row1 col1\" >337103</td>\n",
       "                        <td id=\"T_d46b6ee8_f11a_11e9_be34_54e1ad623274row1_col2\" class=\"data row1 col2\" >27.04</td>\n",
       "            </tr>\n",
       "            <tr>\n",
       "                        <th id=\"T_d46b6ee8_f11a_11e9_be34_54e1ad623274level0_row2\" class=\"row_heading level0 row2\" >3</th>\n",
       "                        <td id=\"T_d46b6ee8_f11a_11e9_be34_54e1ad623274row2_col0\" class=\"data row2 col0\" >homepage</td>\n",
       "                        <td id=\"T_d46b6ee8_f11a_11e9_be34_54e1ad623274row2_col1\" class=\"data row2 col1\" >266720</td>\n",
       "                        <td id=\"T_d46b6ee8_f11a_11e9_be34_54e1ad623274row2_col2\" class=\"data row2 col2\" >21.39</td>\n",
       "            </tr>\n",
       "            <tr>\n",
       "                        <th id=\"T_d46b6ee8_f11a_11e9_be34_54e1ad623274level0_row3\" class=\"row_heading level0 row3\" >7</th>\n",
       "                        <td id=\"T_d46b6ee8_f11a_11e9_be34_54e1ad623274row3_col0\" class=\"data row3 col0\" >subpage</td>\n",
       "                        <td id=\"T_d46b6ee8_f11a_11e9_be34_54e1ad623274row3_col1\" class=\"data row3 col1\" >71582</td>\n",
       "                        <td id=\"T_d46b6ee8_f11a_11e9_be34_54e1ad623274row3_col2\" class=\"data row3 col2\" >5.74</td>\n",
       "            </tr>\n",
       "            <tr>\n",
       "                        <th id=\"T_d46b6ee8_f11a_11e9_be34_54e1ad623274level0_row4\" class=\"row_heading level0 row4\" >8</th>\n",
       "                        <td id=\"T_d46b6ee8_f11a_11e9_be34_54e1ad623274row4_col0\" class=\"data row4 col0\" >url</td>\n",
       "                        <td id=\"T_d46b6ee8_f11a_11e9_be34_54e1ad623274row4_col1\" class=\"data row4 col1\" >28377</td>\n",
       "                        <td id=\"T_d46b6ee8_f11a_11e9_be34_54e1ad623274row4_col2\" class=\"data row4 col2\" >2.28</td>\n",
       "            </tr>\n",
       "            <tr>\n",
       "                        <th id=\"T_d46b6ee8_f11a_11e9_be34_54e1ad623274level0_row5\" class=\"row_heading level0 row5\" >6</th>\n",
       "                        <td id=\"T_d46b6ee8_f11a_11e9_be34_54e1ad623274row5_col0\" class=\"data row5 col0\" >resource</td>\n",
       "                        <td id=\"T_d46b6ee8_f11a_11e9_be34_54e1ad623274row5_col1\" class=\"data row5 col1\" >14924</td>\n",
       "                        <td id=\"T_d46b6ee8_f11a_11e9_be34_54e1ad623274row5_col2\" class=\"data row5 col2\" >1.2</td>\n",
       "            </tr>\n",
       "            <tr>\n",
       "                        <th id=\"T_d46b6ee8_f11a_11e9_be34_54e1ad623274level0_row6\" class=\"row_heading level0 row6\" >0</th>\n",
       "                        <td id=\"T_d46b6ee8_f11a_11e9_be34_54e1ad623274row6_col0\" class=\"data row6 col0\" >dataplus</td>\n",
       "                        <td id=\"T_d46b6ee8_f11a_11e9_be34_54e1ad623274row6_col1\" class=\"data row6 col1\" >3398</td>\n",
       "                        <td id=\"T_d46b6ee8_f11a_11e9_be34_54e1ad623274row6_col2\" class=\"data row6 col2\" >0.27</td>\n",
       "            </tr>\n",
       "            <tr>\n",
       "                        <th id=\"T_d46b6ee8_f11a_11e9_be34_54e1ad623274level0_row7\" class=\"row_heading level0 row7\" >2</th>\n",
       "                        <td id=\"T_d46b6ee8_f11a_11e9_be34_54e1ad623274row7_col0\" class=\"data row7 col0\" >glossary</td>\n",
       "                        <td id=\"T_d46b6ee8_f11a_11e9_be34_54e1ad623274row7_col1\" class=\"data row7 col1\" >656</td>\n",
       "                        <td id=\"T_d46b6ee8_f11a_11e9_be34_54e1ad623274row7_col2\" class=\"data row7 col2\" >0.05</td>\n",
       "            </tr>\n",
       "            <tr>\n",
       "                        <th id=\"T_d46b6ee8_f11a_11e9_be34_54e1ad623274level0_row8\" class=\"row_heading level0 row8\" >4</th>\n",
       "                        <td id=\"T_d46b6ee8_f11a_11e9_be34_54e1ad623274row8_col0\" class=\"data row8 col0\" >oucollaborate</td>\n",
       "                        <td id=\"T_d46b6ee8_f11a_11e9_be34_54e1ad623274row8_col1\" class=\"data row8 col1\" >498</td>\n",
       "                        <td id=\"T_d46b6ee8_f11a_11e9_be34_54e1ad623274row8_col2\" class=\"data row8 col2\" >0.04</td>\n",
       "            </tr>\n",
       "    </tbody></table>"
      ],
      "text/plain": [
       "<pandas.io.formats.style.Styler at 0x27f11997a90>"
      ]
     },
     "execution_count": 49,
     "metadata": {},
     "output_type": "execute_result"
    }
   ],
   "source": [
    "highlight_table = overall_activity.sort_values('percentage', ascending=False).style.background_gradient(cmap='YlGn')\n",
    "highlight_table"
   ]
  },
  {
   "cell_type": "markdown",
   "metadata": {},
   "source": [
    "<font color=green>Now let's plot our results on a horizontal bar graph to show the top accessed materials by students taking Module AAA.\n",
    "<br>\n",
    "A horizontal bar graph is suitable in this case as we are ranking the activity types and the length of the labels are easier to read using a hbar graph rather than a vbar graph </font>"
   ]
  },
  {
   "cell_type": "code",
   "execution_count": 50,
   "metadata": {},
   "outputs": [
    {
     "data": {
      "image/png": "[encoded data removed]",
      "text/plain": [
       "<Figure size 432x288 with 1 Axes>"
      ]
     },
     "metadata": {
      "needs_background": "light"
     },
     "output_type": "display_data"
    }
   ],
   "source": [
    "sns.set_color_codes(\"pastel\")\n",
    "sns.barplot(x=\"sum_click\", y='activity_type', data=overall_activity,\n",
    "            label=\"Total\", color=\"b\")\n",
    "sns.despine(top=True)"
   ]
  },
  {
   "cell_type": "markdown",
   "metadata": {},
   "source": [
    "## Comparing frequency of revision with outcome of grades"
   ]
  },
  {
   "cell_type": "markdown",
   "metadata": {},
   "source": [
    "<font color=green> To start comparing the students' results with how frequently they interacted with the material, I filtered for students who scored distinction in the studentInfo_df. </font>"
   ]
  },
  {
   "cell_type": "code",
   "execution_count": 51,
   "metadata": {},
   "outputs": [
    {
     "data": {
      "text/html": [
       "<div>\n",
       "<style scoped>\n",
       "    .dataframe tbody tr th:only-of-type {\n",
       "        vertical-align: middle;\n",
       "    }\n",
       "\n",
       "    .dataframe tbody tr th {\n",
       "        vertical-align: top;\n",
       "    }\n",
       "\n",
       "    .dataframe thead th {\n",
       "        text-align: right;\n",
       "    }\n",
       "</style>\n",
       "<table border=\"1\" class=\"dataframe\">\n",
       "  <thead>\n",
       "    <tr style=\"text-align: right;\">\n",
       "      <th></th>\n",
       "      <th>id_student</th>\n",
       "      <th>distinction</th>\n",
       "    </tr>\n",
       "  </thead>\n",
       "  <tbody>\n",
       "    <tr>\n",
       "      <th>43</th>\n",
       "      <td>134143</td>\n",
       "      <td>Distinction</td>\n",
       "    </tr>\n",
       "    <tr>\n",
       "      <th>78</th>\n",
       "      <td>187100</td>\n",
       "      <td>Distinction</td>\n",
       "    </tr>\n",
       "    <tr>\n",
       "      <th>87</th>\n",
       "      <td>227499</td>\n",
       "      <td>Distinction</td>\n",
       "    </tr>\n",
       "    <tr>\n",
       "      <th>115</th>\n",
       "      <td>279572</td>\n",
       "      <td>Distinction</td>\n",
       "    </tr>\n",
       "    <tr>\n",
       "      <th>124</th>\n",
       "      <td>291334</td>\n",
       "      <td>Distinction</td>\n",
       "    </tr>\n",
       "  </tbody>\n",
       "</table>\n",
       "</div>"
      ],
      "text/plain": [
       "     id_student  distinction\n",
       "43       134143  Distinction\n",
       "78       187100  Distinction\n",
       "87       227499  Distinction\n",
       "115      279572  Distinction\n",
       "124      291334  Distinction"
      ]
     },
     "execution_count": 51,
     "metadata": {},
     "output_type": "execute_result"
    }
   ],
   "source": [
    "filter_A_student = studentInfo_df['final_result'] == 'Distinction'\n",
    "module_A_distinction = pd.DataFrame(studentInfo_df[filter_A_student & filter_A]['id_student'])\n",
    "module_A_distinction['distinction'] = 'Distinction'\n",
    "module_A_distinction.head()"
   ]
  },
  {
   "cell_type": "markdown",
   "metadata": {},
   "source": [
    "<font color=green> Here is the tricky part. In order to compare the interaction with their grades, there is a need to <b>left join</b> studentVle_df (has the data on how frequently student clicked on material) with studentInfo_df (has data on who scored distinction) </font>"
   ]
  },
  {
   "cell_type": "code",
   "execution_count": 52,
   "metadata": {},
   "outputs": [
    {
     "data": {
      "text/html": [
       "<div>\n",
       "<style scoped>\n",
       "    .dataframe tbody tr th:only-of-type {\n",
       "        vertical-align: middle;\n",
       "    }\n",
       "\n",
       "    .dataframe tbody tr th {\n",
       "        vertical-align: top;\n",
       "    }\n",
       "\n",
       "    .dataframe thead th {\n",
       "        text-align: right;\n",
       "    }\n",
       "</style>\n",
       "<table border=\"1\" class=\"dataframe\">\n",
       "  <thead>\n",
       "    <tr style=\"text-align: right;\">\n",
       "      <th></th>\n",
       "      <th>code_module</th>\n",
       "      <th>code_presentation</th>\n",
       "      <th>id_student</th>\n",
       "      <th>id_site</th>\n",
       "      <th>date</th>\n",
       "      <th>sum_click</th>\n",
       "      <th>activity_type</th>\n",
       "      <th>distinction</th>\n",
       "    </tr>\n",
       "  </thead>\n",
       "  <tbody>\n",
       "    <tr>\n",
       "      <th>0</th>\n",
       "      <td>AAA</td>\n",
       "      <td>2013J</td>\n",
       "      <td>28400</td>\n",
       "      <td>546652</td>\n",
       "      <td>-10</td>\n",
       "      <td>4</td>\n",
       "      <td>forumng</td>\n",
       "      <td>Non-Distinction</td>\n",
       "    </tr>\n",
       "    <tr>\n",
       "      <th>1</th>\n",
       "      <td>AAA</td>\n",
       "      <td>2013J</td>\n",
       "      <td>28400</td>\n",
       "      <td>546652</td>\n",
       "      <td>-10</td>\n",
       "      <td>1</td>\n",
       "      <td>forumng</td>\n",
       "      <td>Non-Distinction</td>\n",
       "    </tr>\n",
       "    <tr>\n",
       "      <th>2</th>\n",
       "      <td>AAA</td>\n",
       "      <td>2013J</td>\n",
       "      <td>28400</td>\n",
       "      <td>546652</td>\n",
       "      <td>-10</td>\n",
       "      <td>1</td>\n",
       "      <td>forumng</td>\n",
       "      <td>Non-Distinction</td>\n",
       "    </tr>\n",
       "    <tr>\n",
       "      <th>3</th>\n",
       "      <td>AAA</td>\n",
       "      <td>2013J</td>\n",
       "      <td>28400</td>\n",
       "      <td>546614</td>\n",
       "      <td>-10</td>\n",
       "      <td>11</td>\n",
       "      <td>homepage</td>\n",
       "      <td>Non-Distinction</td>\n",
       "    </tr>\n",
       "    <tr>\n",
       "      <th>4</th>\n",
       "      <td>AAA</td>\n",
       "      <td>2013J</td>\n",
       "      <td>28400</td>\n",
       "      <td>546714</td>\n",
       "      <td>-10</td>\n",
       "      <td>1</td>\n",
       "      <td>oucontent</td>\n",
       "      <td>Non-Distinction</td>\n",
       "    </tr>\n",
       "  </tbody>\n",
       "</table>\n",
       "</div>"
      ],
      "text/plain": [
       "  code_module code_presentation  id_student  id_site  date  sum_click  \\\n",
       "0         AAA             2013J       28400   546652   -10          4   \n",
       "1         AAA             2013J       28400   546652   -10          1   \n",
       "2         AAA             2013J       28400   546652   -10          1   \n",
       "3         AAA             2013J       28400   546614   -10         11   \n",
       "4         AAA             2013J       28400   546714   -10          1   \n",
       "\n",
       "  activity_type      distinction  \n",
       "0       forumng  Non-Distinction  \n",
       "1       forumng  Non-Distinction  \n",
       "2       forumng  Non-Distinction  \n",
       "3      homepage  Non-Distinction  \n",
       "4     oucontent  Non-Distinction  "
      ]
     },
     "execution_count": 52,
     "metadata": {},
     "output_type": "execute_result"
    }
   ],
   "source": [
    "studentVle_merge_df = pd.merge(studentVle_merge_df, module_A_distinction, on='id_student', how='left')\n",
    "studentVle_merge_df['distinction'].fillna('Non-Distinction', inplace=True)\n",
    "studentVle_merge_df.head()"
   ]
  },
  {
   "cell_type": "code",
   "execution_count": 53,
   "metadata": {},
   "outputs": [
    {
     "data": {
      "text/plain": [
       "(350298, 8)"
      ]
     },
     "execution_count": 53,
     "metadata": {},
     "output_type": "execute_result"
    }
   ],
   "source": [
    "studentVle_merge_df.shape"
   ]
  },
  {
   "cell_type": "markdown",
   "metadata": {},
   "source": [
    "<font color=green> If we observe the studentVle_merge_df, we will realise that the data has <b>350k rows which are way too many to plot a pretty looking graph.</b> There is a need to revise the date and categorize them into months/weeks which is what I did below</font>"
   ]
  },
  {
   "cell_type": "code",
   "execution_count": 54,
   "metadata": {},
   "outputs": [],
   "source": [
    "# Sep Oct Nov Dec Jan Feb Mar Apr May June\n",
    "def date_revision(date):\n",
    "    if date <= -1:\n",
    "        return 'Sep'\n",
    "    elif date <= 31:\n",
    "        return 'Oct'\n",
    "    elif date <= 61:\n",
    "        return 'Nov'\n",
    "    elif date <= 92:\n",
    "        return 'Dec'\n",
    "    elif date <= 123:\n",
    "        return 'Jan'\n",
    "    elif date <= 151:\n",
    "        return 'Feb'\n",
    "    elif date <= 179:\n",
    "        return 'Mar'\n",
    "    elif date <= 210:\n",
    "        return 'Apr'\n",
    "    elif date <= 240:\n",
    "        return 'May'\n",
    "    else:\n",
    "        return 'Jun'\n",
    "    \n",
    "def date_number(date):\n",
    "    if date == 'Sep':\n",
    "        return 1\n",
    "    elif date == 'Oct':\n",
    "        return 2\n",
    "    elif date == 'Nov':\n",
    "        return 3\n",
    "    elif date == 'Dec':\n",
    "        return 4\n",
    "    elif date == 'Jan':\n",
    "        return 5\n",
    "    elif date == 'Feb':\n",
    "        return 6\n",
    "    elif date == 'Mar':\n",
    "        return 7\n",
    "    elif date == 'Apr':\n",
    "        return 8\n",
    "    elif date == 'May':\n",
    "        return 9\n",
    "    else:\n",
    "        return 10\n",
    "\n",
    "studentVle_merge_df['revised_date'] = studentVle_merge_df['date'].apply(date_revision)\n"
   ]
  },
  {
   "cell_type": "code",
   "execution_count": 55,
   "metadata": {},
   "outputs": [
    {
     "data": {
      "text/html": [
       "<div>\n",
       "<style scoped>\n",
       "    .dataframe tbody tr th:only-of-type {\n",
       "        vertical-align: middle;\n",
       "    }\n",
       "\n",
       "    .dataframe tbody tr th {\n",
       "        vertical-align: top;\n",
       "    }\n",
       "\n",
       "    .dataframe thead th {\n",
       "        text-align: right;\n",
       "    }\n",
       "</style>\n",
       "<table border=\"1\" class=\"dataframe\">\n",
       "  <thead>\n",
       "    <tr style=\"text-align: right;\">\n",
       "      <th></th>\n",
       "      <th>code_module</th>\n",
       "      <th>code_presentation</th>\n",
       "      <th>id_student</th>\n",
       "      <th>id_site</th>\n",
       "      <th>date</th>\n",
       "      <th>sum_click</th>\n",
       "      <th>activity_type</th>\n",
       "      <th>distinction</th>\n",
       "      <th>revised_date</th>\n",
       "      <th>date_no</th>\n",
       "    </tr>\n",
       "  </thead>\n",
       "  <tbody>\n",
       "    <tr>\n",
       "      <th>0</th>\n",
       "      <td>AAA</td>\n",
       "      <td>2013J</td>\n",
       "      <td>28400</td>\n",
       "      <td>546652</td>\n",
       "      <td>-10</td>\n",
       "      <td>4</td>\n",
       "      <td>forumng</td>\n",
       "      <td>Non-Distinction</td>\n",
       "      <td>Sep</td>\n",
       "      <td>1</td>\n",
       "    </tr>\n",
       "    <tr>\n",
       "      <th>1</th>\n",
       "      <td>AAA</td>\n",
       "      <td>2013J</td>\n",
       "      <td>28400</td>\n",
       "      <td>546652</td>\n",
       "      <td>-10</td>\n",
       "      <td>1</td>\n",
       "      <td>forumng</td>\n",
       "      <td>Non-Distinction</td>\n",
       "      <td>Sep</td>\n",
       "      <td>1</td>\n",
       "    </tr>\n",
       "    <tr>\n",
       "      <th>2</th>\n",
       "      <td>AAA</td>\n",
       "      <td>2013J</td>\n",
       "      <td>28400</td>\n",
       "      <td>546652</td>\n",
       "      <td>-10</td>\n",
       "      <td>1</td>\n",
       "      <td>forumng</td>\n",
       "      <td>Non-Distinction</td>\n",
       "      <td>Sep</td>\n",
       "      <td>1</td>\n",
       "    </tr>\n",
       "    <tr>\n",
       "      <th>3</th>\n",
       "      <td>AAA</td>\n",
       "      <td>2013J</td>\n",
       "      <td>28400</td>\n",
       "      <td>546614</td>\n",
       "      <td>-10</td>\n",
       "      <td>11</td>\n",
       "      <td>homepage</td>\n",
       "      <td>Non-Distinction</td>\n",
       "      <td>Sep</td>\n",
       "      <td>1</td>\n",
       "    </tr>\n",
       "    <tr>\n",
       "      <th>4</th>\n",
       "      <td>AAA</td>\n",
       "      <td>2013J</td>\n",
       "      <td>28400</td>\n",
       "      <td>546714</td>\n",
       "      <td>-10</td>\n",
       "      <td>1</td>\n",
       "      <td>oucontent</td>\n",
       "      <td>Non-Distinction</td>\n",
       "      <td>Sep</td>\n",
       "      <td>1</td>\n",
       "    </tr>\n",
       "  </tbody>\n",
       "</table>\n",
       "</div>"
      ],
      "text/plain": [
       "  code_module code_presentation  id_student  id_site  date  sum_click  \\\n",
       "0         AAA             2013J       28400   546652   -10          4   \n",
       "1         AAA             2013J       28400   546652   -10          1   \n",
       "2         AAA             2013J       28400   546652   -10          1   \n",
       "3         AAA             2013J       28400   546614   -10         11   \n",
       "4         AAA             2013J       28400   546714   -10          1   \n",
       "\n",
       "  activity_type      distinction revised_date  date_no  \n",
       "0       forumng  Non-Distinction          Sep        1  \n",
       "1       forumng  Non-Distinction          Sep        1  \n",
       "2       forumng  Non-Distinction          Sep        1  \n",
       "3      homepage  Non-Distinction          Sep        1  \n",
       "4     oucontent  Non-Distinction          Sep        1  "
      ]
     },
     "execution_count": 55,
     "metadata": {},
     "output_type": "execute_result"
    }
   ],
   "source": [
    "studentVle_merge_df['date_no'] = studentVle_merge_df['revised_date'].apply(date_number)\n",
    "studentVle_merge_df.head()"
   ]
  },
  {
   "cell_type": "code",
   "execution_count": 56,
   "metadata": {},
   "outputs": [
    {
     "data": {
      "text/html": [
       "<div>\n",
       "<style scoped>\n",
       "    .dataframe tbody tr th:only-of-type {\n",
       "        vertical-align: middle;\n",
       "    }\n",
       "\n",
       "    .dataframe tbody tr th {\n",
       "        vertical-align: top;\n",
       "    }\n",
       "\n",
       "    .dataframe thead th {\n",
       "        text-align: right;\n",
       "    }\n",
       "</style>\n",
       "<table border=\"1\" class=\"dataframe\">\n",
       "  <thead>\n",
       "    <tr style=\"text-align: right;\">\n",
       "      <th></th>\n",
       "      <th>revised_date</th>\n",
       "      <th>date_no</th>\n",
       "      <th>sum_click</th>\n",
       "    </tr>\n",
       "  </thead>\n",
       "  <tbody>\n",
       "    <tr>\n",
       "      <th>0</th>\n",
       "      <td>Apr</td>\n",
       "      <td>8</td>\n",
       "      <td>4732.0</td>\n",
       "    </tr>\n",
       "    <tr>\n",
       "      <th>1</th>\n",
       "      <td>Dec</td>\n",
       "      <td>4</td>\n",
       "      <td>4316.0</td>\n",
       "    </tr>\n",
       "    <tr>\n",
       "      <th>2</th>\n",
       "      <td>Feb</td>\n",
       "      <td>6</td>\n",
       "      <td>5362.0</td>\n",
       "    </tr>\n",
       "    <tr>\n",
       "      <th>3</th>\n",
       "      <td>Jan</td>\n",
       "      <td>5</td>\n",
       "      <td>7007.0</td>\n",
       "    </tr>\n",
       "    <tr>\n",
       "      <th>4</th>\n",
       "      <td>Jun</td>\n",
       "      <td>10</td>\n",
       "      <td>1563.0</td>\n",
       "    </tr>\n",
       "    <tr>\n",
       "      <th>5</th>\n",
       "      <td>Mar</td>\n",
       "      <td>7</td>\n",
       "      <td>6114.0</td>\n",
       "    </tr>\n",
       "    <tr>\n",
       "      <th>6</th>\n",
       "      <td>May</td>\n",
       "      <td>9</td>\n",
       "      <td>7195.0</td>\n",
       "    </tr>\n",
       "    <tr>\n",
       "      <th>7</th>\n",
       "      <td>Nov</td>\n",
       "      <td>3</td>\n",
       "      <td>8804.0</td>\n",
       "    </tr>\n",
       "    <tr>\n",
       "      <th>8</th>\n",
       "      <td>Oct</td>\n",
       "      <td>2</td>\n",
       "      <td>15925.0</td>\n",
       "    </tr>\n",
       "    <tr>\n",
       "      <th>9</th>\n",
       "      <td>Sep</td>\n",
       "      <td>1</td>\n",
       "      <td>6146.0</td>\n",
       "    </tr>\n",
       "  </tbody>\n",
       "</table>\n",
       "</div>"
      ],
      "text/plain": [
       "  revised_date  date_no  sum_click\n",
       "0          Apr        8     4732.0\n",
       "1          Dec        4     4316.0\n",
       "2          Feb        6     5362.0\n",
       "3          Jan        5     7007.0\n",
       "4          Jun       10     1563.0\n",
       "5          Mar        7     6114.0\n",
       "6          May        9     7195.0\n",
       "7          Nov        3     8804.0\n",
       "8          Oct        2    15925.0\n",
       "9          Sep        1     6146.0"
      ]
     },
     "execution_count": 56,
     "metadata": {},
     "output_type": "execute_result"
    }
   ],
   "source": [
    "distinction = studentVle_merge_df['distinction'] == 'Distinction'\n",
    "studentVle_merge_A_df = pd.DataFrame(studentVle_merge_df[distinction].groupby(['revised_date','date_no'])['sum_click'].sum())\n",
    "studentVle_merge_A_df.reset_index(inplace = True)\n",
    "\n",
    "nodistinction = studentVle_merge_df['distinction'] == 'Non-Distinction'\n",
    "studentVle_merge_NA_df = pd.DataFrame(studentVle_merge_df[nodistinction].groupby(['revised_date','date_no'])['sum_click'].sum())\n",
    "studentVle_merge_NA_df.reset_index(inplace = True)\n",
    "studentVle_merge_NA_df['sum_click'] = round(studentVle_merge_NA_df['sum_click'] / 16)\n",
    "studentVle_merge_NA_df"
   ]
  },
  {
   "cell_type": "markdown",
   "metadata": {},
   "source": [
    "<font color=green> The above df shows the df comparing the no. of interactions over time in months. However, it is not sequenced in order, that's why we have date_no to sort the values. </font>"
   ]
  },
  {
   "cell_type": "code",
   "execution_count": 57,
   "metadata": {},
   "outputs": [],
   "source": [
    "studentVle_merge_A_df = studentVle_merge_A_df.sort_values('date_no')\n",
    "studentVle_merge_NA_df = studentVle_merge_NA_df.sort_values('date_no')"
   ]
  },
  {
   "cell_type": "code",
   "execution_count": 58,
   "metadata": {},
   "outputs": [
    {
     "name": "stdout",
     "output_type": "stream",
     "text": [
      "  revised_date  date_no  sum_click\n",
      "9          Sep        1      15136\n",
      "8          Oct        2      31873\n",
      "7          Nov        3      20631\n",
      "1          Dec        4      13421\n",
      "3          Jan        5      18115\n",
      "2          Feb        6      17961\n",
      "5          Mar        7      16143\n",
      "0          Apr        8      13710\n",
      "6          May        9      21156\n",
      "4          Jun       10       3864\n",
      "  revised_date  date_no  sum_click\n",
      "9          Sep        1     6146.0\n",
      "8          Oct        2    15925.0\n",
      "7          Nov        3     8804.0\n",
      "1          Dec        4     4316.0\n",
      "3          Jan        5     7007.0\n",
      "2          Feb        6     5362.0\n",
      "5          Mar        7     6114.0\n",
      "0          Apr        8     4732.0\n",
      "6          May        9     7195.0\n",
      "4          Jun       10     1563.0\n"
     ]
    }
   ],
   "source": [
    "print(studentVle_merge_A_df)\n",
    "print(studentVle_merge_NA_df)"
   ]
  },
  {
   "cell_type": "markdown",
   "metadata": {},
   "source": [
    "<font color=green> After we have checked both df are neat and tidy, lets plot a graph to observe any trends </font>"
   ]
  },
  {
   "cell_type": "code",
   "execution_count": 59,
   "metadata": {},
   "outputs": [
    {
     "data": {
      "image/png": "[encoded data removed]",
      "text/plain": [
       "<Figure size 720x432 with 1 Axes>"
      ]
     },
     "metadata": {
      "needs_background": "light"
     },
     "output_type": "display_data"
    }
   ],
   "source": [
    "fig= plt.figure(figsize=(10,6)) \n",
    "ax1 = plt.plot( 'revised_date', 'sum_click', data=studentVle_merge_A_df, marker='', color='#003366', linewidth=2)\n",
    "ax2 = plt.plot( 'revised_date', 'sum_click', data=studentVle_merge_NA_df, marker='', color='#cccccc', linewidth=2)\n",
    "plt.annotate('15925', ('Oct',16925))\n",
    "plt.annotate('31873', ('Oct',32873))\n",
    "plt.annotate('13710', ('Apr',11710))\n",
    "plt.annotate('4732', ('Apr',2732))\n",
    "plt.annotate('21156', ('May',22156))\n",
    "plt.annotate('7195', ('May',8195))\n",
    "plt.yticks(np.arange(0,35001,5000))\n",
    "plt.axvspan('Apr', 'May', color='#cccccc', alpha=0.25)\n",
    "plt.legend(labels =['Distinction','Non-Distinction'])\n",
    "plt.ylabel('No. of Clicks', fontsize=10)\n",
    "plt.title('Frequency of Revision Over Time', loc='center',pad=15, fontsize=15);"
   ]
  },
  {
   "cell_type": "markdown",
   "metadata": {},
   "source": [
    "<font color=blue> From the explanation of the dataset, we know that students are given access to the materials in September, that explains why the interaction count is not high. Once the course has kickstarted, we observe that there are a high no. of interactions for all students, the highest in fact. <br> <br> The grey area I highlighted also shows a marked increase in interaction with the material, this is probably due to the final exams that carry a high weightage. As we observe from both lines, the <b>trend for both distinction and non-distinction students are the same! Distinction students revise their material more often than non-distinction students. </b> When the final exam is approaching, there is an increase in intensity of revision too. </font>"
   ]
  },
  {
   "cell_type": "markdown",
   "metadata": {},
   "source": [
    "<font color=green> Question: But for each distinction and non-distinction student, are there any differences in the interaction? </font>  "
   ]
  },
  {
   "cell_type": "markdown",
   "metadata": {},
   "source": [
    "<font color=green> Finding the no. of clicks for each student taking Module AAA </font>"
   ]
  },
  {
   "cell_type": "code",
   "execution_count": 60,
   "metadata": {},
   "outputs": [
    {
     "data": {
      "text/plain": [
       "(702, 3)"
      ]
     },
     "execution_count": 60,
     "metadata": {},
     "output_type": "execute_result"
    }
   ],
   "source": [
    "new = pd.DataFrame(studentVle_merge_df.groupby(['id_student','distinction'])['sum_click'].sum()).reset_index()\n",
    "new.shape"
   ]
  },
  {
   "cell_type": "markdown",
   "metadata": {},
   "source": [
    "<font color=green> The 44 students who scored distinction are placed into df new2 </font>"
   ]
  },
  {
   "cell_type": "code",
   "execution_count": 61,
   "metadata": {},
   "outputs": [
    {
     "data": {
      "text/plain": [
       "(44, 3)"
      ]
     },
     "execution_count": 61,
     "metadata": {},
     "output_type": "execute_result"
    }
   ],
   "source": [
    "new2 = new[new['distinction']=='Distinction']\n",
    "new2.shape"
   ]
  },
  {
   "cell_type": "code",
   "execution_count": 62,
   "metadata": {},
   "outputs": [
    {
     "data": {
      "text/plain": [
       "(658, 3)"
      ]
     },
     "execution_count": 62,
     "metadata": {},
     "output_type": "execute_result"
    }
   ],
   "source": [
    "new3 = new[new['distinction']=='Non-Distinction']\n",
    "new3.shape"
   ]
  },
  {
   "cell_type": "markdown",
   "metadata": {},
   "source": [
    "<font color=green> Since the no. of non-distinction students outnumber the no. of distinction students, it would be hard to compare the interaction differences between them. As such, we select at random 44 students from the pool of 658 non-distinction students using .sample() </font>"
   ]
  },
  {
   "cell_type": "code",
   "execution_count": 63,
   "metadata": {},
   "outputs": [],
   "source": [
    "new4 = new3.sample(frac=(44/658), replace=True, random_state=1)"
   ]
  },
  {
   "cell_type": "code",
   "execution_count": 64,
   "metadata": {},
   "outputs": [
    {
     "data": {
      "text/plain": [
       "(44, 3)"
      ]
     },
     "execution_count": 64,
     "metadata": {},
     "output_type": "execute_result"
    }
   ],
   "source": [
    "new4.shape"
   ]
  },
  {
   "cell_type": "markdown",
   "metadata": {},
   "source": [
    "<font color=green> Concatenating both dfs (non-distinction and distinction students) to plot a scatterplot. </font>"
   ]
  },
  {
   "cell_type": "code",
   "execution_count": 65,
   "metadata": {},
   "outputs": [],
   "source": [
    "new5 = pd.concat([new4, new2])"
   ]
  },
  {
   "cell_type": "code",
   "execution_count": 66,
   "metadata": {},
   "outputs": [
    {
     "data": {
      "image/png": "[encoded data removed]",
      "text/plain": [
       "<Figure size 720x432 with 1 Axes>"
      ]
     },
     "metadata": {
      "needs_background": "light"
     },
     "output_type": "display_data"
    }
   ],
   "source": [
    "fig= plt.figure(figsize=(10,6)) \n",
    "sns.stripplot(x='distinction', y='sum_click', data=new5,   \n",
    "              size=16, alpha=.2, jitter=True, edgecolor='none')\n",
    "sns.despine()"
   ]
  },
  {
   "cell_type": "markdown",
   "metadata": {},
   "source": [
    "<font color=blue> Using the elegant seaborn package, we plot the no. of interactions(clicks) with distinction and non-distinction students. We can observe on the graph that there is a higher tendency for distinction students to revise more than non-distinction students but <b>there is also a fair amount of distinction students who perform better despite revising lesser</b>. The spread of points is wider for distinction students than non-distinction students. </font> "
   ]
  },
  {
   "cell_type": "markdown",
   "metadata": {},
   "source": [
    "<font color=green> On average, how much does a distinction student revise more than a non-distinction student? Let's find out by using the data we have from the graph. </font>"
   ]
  },
  {
   "cell_type": "code",
   "execution_count": 67,
   "metadata": {},
   "outputs": [
    {
     "data": {
      "text/plain": [
       "distinction\n",
       "Distinction    3909.318182\n",
       "Name: sum_click, dtype: float64"
      ]
     },
     "execution_count": 67,
     "metadata": {},
     "output_type": "execute_result"
    }
   ],
   "source": [
    "new2.groupby('distinction')['sum_click'].sum()/44"
   ]
  },
  {
   "cell_type": "code",
   "execution_count": 68,
   "metadata": {},
   "outputs": [
    {
     "data": {
      "text/plain": [
       "distinction\n",
       "Non-Distinction    1633.194529\n",
       "Name: sum_click, dtype: float64"
      ]
     },
     "execution_count": 68,
     "metadata": {},
     "output_type": "execute_result"
    }
   ],
   "source": [
    "new3.groupby('distinction')['sum_click'].sum()/658"
   ]
  },
  {
   "cell_type": "code",
   "execution_count": 69,
   "metadata": {},
   "outputs": [
    {
     "data": {
      "text/plain": [
       "139.37"
      ]
     },
     "execution_count": 69,
     "metadata": {},
     "output_type": "execute_result"
    }
   ],
   "source": [
    "round(((3909.318182-1633.194529)/1633.194529*100),2)"
   ]
  },
  {
   "cell_type": "code",
   "execution_count": 70,
   "metadata": {},
   "outputs": [
    {
     "data": {
      "text/plain": [
       "2.39"
      ]
     },
     "execution_count": 70,
     "metadata": {},
     "output_type": "execute_result"
    }
   ],
   "source": [
    "round((3909.318182/1633.194529),2)"
   ]
  },
  {
   "cell_type": "markdown",
   "metadata": {},
   "source": [
    "<font color=blue> On average, a distinction student revises the material <b>2.39 times (or 139%)</b> more than an average/below par student</font>"
   ]
  },
  {
   "cell_type": "markdown",
   "metadata": {},
   "source": [
    "## Observing trends before final exam"
   ]
  },
  {
   "cell_type": "markdown",
   "metadata": {},
   "source": [
    "<font color=green> We know from the weightage of marks of Module AAA that finals take up 50% of the results. As such, it plays a heavy part in ensuring that distinction students score their As in their modules. As seen in the previous line graph, we notice that there is an increase in interaction towards the final exams. <b> Let's dig deeper to find out if there are any trends we can observe two months leading up to the final exams. </b>"
   ]
  },
  {
   "cell_type": "code",
   "execution_count": 71,
   "metadata": {},
   "outputs": [],
   "source": [
    "finals = studentVle_merge_df[studentVle_merge_df['date'].between(180,269)]\n",
    "def week_revision(date):\n",
    "    if date <= 186:\n",
    "        return 1\n",
    "    elif date <= 193 :\n",
    "        return 2\n",
    "    elif date <= 200:\n",
    "        return 3\n",
    "    elif date <= 207:\n",
    "        return 4\n",
    "    elif date <= 214:\n",
    "        return 5\n",
    "    elif date <= 221:\n",
    "        return 6\n",
    "    elif date <= 228:\n",
    "        return 7\n",
    "    elif date <= 235:\n",
    "        return 8\n",
    "    elif date <= 242:\n",
    "        return 9\n",
    "    elif date <= 249:\n",
    "        return 10\n",
    "    elif date <= 256:\n",
    "        return 11\n",
    "    elif date <= 263:\n",
    "        return 12\n",
    "    else:\n",
    "        return 13"
   ]
  },
  {
   "cell_type": "code",
   "execution_count": 72,
   "metadata": {},
   "outputs": [
    {
     "name": "stderr",
     "output_type": "stream",
     "text": [
      "C:\\Users\\delim\\Anaconda3\\lib\\site-packages\\ipykernel_launcher.py:1: SettingWithCopyWarning: \n",
      "A value is trying to be set on a copy of a slice from a DataFrame.\n",
      "Try using .loc[row_indexer,col_indexer] = value instead\n",
      "\n",
      "See the caveats in the documentation: http://pandas.pydata.org/pandas-docs/stable/indexing.html#indexing-view-versus-copy\n",
      "  \"\"\"Entry point for launching an IPython kernel.\n"
     ]
    },
    {
     "data": {
      "text/html": [
       "<div>\n",
       "<style scoped>\n",
       "    .dataframe tbody tr th:only-of-type {\n",
       "        vertical-align: middle;\n",
       "    }\n",
       "\n",
       "    .dataframe tbody tr th {\n",
       "        vertical-align: top;\n",
       "    }\n",
       "\n",
       "    .dataframe thead th {\n",
       "        text-align: right;\n",
       "    }\n",
       "</style>\n",
       "<table border=\"1\" class=\"dataframe\">\n",
       "  <thead>\n",
       "    <tr style=\"text-align: right;\">\n",
       "      <th></th>\n",
       "      <th>code_module</th>\n",
       "      <th>code_presentation</th>\n",
       "      <th>id_student</th>\n",
       "      <th>id_site</th>\n",
       "      <th>date</th>\n",
       "      <th>sum_click</th>\n",
       "      <th>activity_type</th>\n",
       "      <th>distinction</th>\n",
       "      <th>revised_date</th>\n",
       "      <th>date_no</th>\n",
       "      <th>week</th>\n",
       "    </tr>\n",
       "  </thead>\n",
       "  <tbody>\n",
       "    <tr>\n",
       "      <th>138361</th>\n",
       "      <td>AAA</td>\n",
       "      <td>2013J</td>\n",
       "      <td>588775</td>\n",
       "      <td>546614</td>\n",
       "      <td>180</td>\n",
       "      <td>9</td>\n",
       "      <td>homepage</td>\n",
       "      <td>Non-Distinction</td>\n",
       "      <td>Apr</td>\n",
       "      <td>8</td>\n",
       "      <td>1</td>\n",
       "    </tr>\n",
       "    <tr>\n",
       "      <th>138362</th>\n",
       "      <td>AAA</td>\n",
       "      <td>2013J</td>\n",
       "      <td>588775</td>\n",
       "      <td>546654</td>\n",
       "      <td>180</td>\n",
       "      <td>1</td>\n",
       "      <td>forumng</td>\n",
       "      <td>Non-Distinction</td>\n",
       "      <td>Apr</td>\n",
       "      <td>8</td>\n",
       "      <td>1</td>\n",
       "    </tr>\n",
       "    <tr>\n",
       "      <th>138363</th>\n",
       "      <td>AAA</td>\n",
       "      <td>2013J</td>\n",
       "      <td>588775</td>\n",
       "      <td>546654</td>\n",
       "      <td>180</td>\n",
       "      <td>2</td>\n",
       "      <td>forumng</td>\n",
       "      <td>Non-Distinction</td>\n",
       "      <td>Apr</td>\n",
       "      <td>8</td>\n",
       "      <td>1</td>\n",
       "    </tr>\n",
       "    <tr>\n",
       "      <th>138364</th>\n",
       "      <td>AAA</td>\n",
       "      <td>2013J</td>\n",
       "      <td>588775</td>\n",
       "      <td>546650</td>\n",
       "      <td>180</td>\n",
       "      <td>2</td>\n",
       "      <td>forumng</td>\n",
       "      <td>Non-Distinction</td>\n",
       "      <td>Apr</td>\n",
       "      <td>8</td>\n",
       "      <td>1</td>\n",
       "    </tr>\n",
       "    <tr>\n",
       "      <th>138365</th>\n",
       "      <td>AAA</td>\n",
       "      <td>2013J</td>\n",
       "      <td>588775</td>\n",
       "      <td>546650</td>\n",
       "      <td>180</td>\n",
       "      <td>3</td>\n",
       "      <td>forumng</td>\n",
       "      <td>Non-Distinction</td>\n",
       "      <td>Apr</td>\n",
       "      <td>8</td>\n",
       "      <td>1</td>\n",
       "    </tr>\n",
       "  </tbody>\n",
       "</table>\n",
       "</div>"
      ],
      "text/plain": [
       "       code_module code_presentation  id_student  id_site  date  sum_click  \\\n",
       "138361         AAA             2013J      588775   546614   180          9   \n",
       "138362         AAA             2013J      588775   546654   180          1   \n",
       "138363         AAA             2013J      588775   546654   180          2   \n",
       "138364         AAA             2013J      588775   546650   180          2   \n",
       "138365         AAA             2013J      588775   546650   180          3   \n",
       "\n",
       "       activity_type      distinction revised_date  date_no  week  \n",
       "138361      homepage  Non-Distinction          Apr        8     1  \n",
       "138362       forumng  Non-Distinction          Apr        8     1  \n",
       "138363       forumng  Non-Distinction          Apr        8     1  \n",
       "138364       forumng  Non-Distinction          Apr        8     1  \n",
       "138365       forumng  Non-Distinction          Apr        8     1  "
      ]
     },
     "execution_count": 72,
     "metadata": {},
     "output_type": "execute_result"
    }
   ],
   "source": [
    "finals['week'] = studentVle_merge_df['date'].apply(week_revision)\n",
    "finals.head()"
   ]
  },
  {
   "cell_type": "code",
   "execution_count": 73,
   "metadata": {},
   "outputs": [
    {
     "name": "stderr",
     "output_type": "stream",
     "text": [
      "C:\\Users\\delim\\Anaconda3\\lib\\site-packages\\ipykernel_launcher.py:1: UserWarning: Boolean Series key will be reindexed to match DataFrame index.\n",
      "  \"\"\"Entry point for launching an IPython kernel.\n",
      "C:\\Users\\delim\\Anaconda3\\lib\\site-packages\\ipykernel_launcher.py:2: UserWarning: Boolean Series key will be reindexed to match DataFrame index.\n",
      "  \n"
     ]
    }
   ],
   "source": [
    "finals_A = finals[studentVle_merge_df['distinction'] == 'Distinction']\n",
    "finals_B = finals[studentVle_merge_df['distinction'] == 'Non-Distinction']"
   ]
  },
  {
   "cell_type": "code",
   "execution_count": 74,
   "metadata": {},
   "outputs": [
    {
     "data": {
      "text/html": [
       "<div>\n",
       "<style scoped>\n",
       "    .dataframe tbody tr th:only-of-type {\n",
       "        vertical-align: middle;\n",
       "    }\n",
       "\n",
       "    .dataframe tbody tr th {\n",
       "        vertical-align: top;\n",
       "    }\n",
       "\n",
       "    .dataframe thead th {\n",
       "        text-align: right;\n",
       "    }\n",
       "</style>\n",
       "<table border=\"1\" class=\"dataframe\">\n",
       "  <thead>\n",
       "    <tr style=\"text-align: right;\">\n",
       "      <th></th>\n",
       "      <th>week</th>\n",
       "      <th>sum_click</th>\n",
       "    </tr>\n",
       "  </thead>\n",
       "  <tbody>\n",
       "    <tr>\n",
       "      <th>0</th>\n",
       "      <td>1</td>\n",
       "      <td>4165</td>\n",
       "    </tr>\n",
       "    <tr>\n",
       "      <th>1</th>\n",
       "      <td>2</td>\n",
       "      <td>2774</td>\n",
       "    </tr>\n",
       "    <tr>\n",
       "      <th>2</th>\n",
       "      <td>3</td>\n",
       "      <td>2418</td>\n",
       "    </tr>\n",
       "    <tr>\n",
       "      <th>3</th>\n",
       "      <td>4</td>\n",
       "      <td>2898</td>\n",
       "    </tr>\n",
       "    <tr>\n",
       "      <th>4</th>\n",
       "      <td>5</td>\n",
       "      <td>3421</td>\n",
       "    </tr>\n",
       "    <tr>\n",
       "      <th>5</th>\n",
       "      <td>6</td>\n",
       "      <td>4182</td>\n",
       "    </tr>\n",
       "    <tr>\n",
       "      <th>6</th>\n",
       "      <td>7</td>\n",
       "      <td>5283</td>\n",
       "    </tr>\n",
       "    <tr>\n",
       "      <th>7</th>\n",
       "      <td>8</td>\n",
       "      <td>4190</td>\n",
       "    </tr>\n",
       "    <tr>\n",
       "      <th>8</th>\n",
       "      <td>9</td>\n",
       "      <td>7465</td>\n",
       "    </tr>\n",
       "    <tr>\n",
       "      <th>9</th>\n",
       "      <td>10</td>\n",
       "      <td>1417</td>\n",
       "    </tr>\n",
       "    <tr>\n",
       "      <th>10</th>\n",
       "      <td>11</td>\n",
       "      <td>245</td>\n",
       "    </tr>\n",
       "    <tr>\n",
       "      <th>11</th>\n",
       "      <td>12</td>\n",
       "      <td>116</td>\n",
       "    </tr>\n",
       "    <tr>\n",
       "      <th>12</th>\n",
       "      <td>13</td>\n",
       "      <td>156</td>\n",
       "    </tr>\n",
       "  </tbody>\n",
       "</table>\n",
       "</div>"
      ],
      "text/plain": [
       "    week  sum_click\n",
       "0      1       4165\n",
       "1      2       2774\n",
       "2      3       2418\n",
       "3      4       2898\n",
       "4      5       3421\n",
       "5      6       4182\n",
       "6      7       5283\n",
       "7      8       4190\n",
       "8      9       7465\n",
       "9     10       1417\n",
       "10    11        245\n",
       "11    12        116\n",
       "12    13        156"
      ]
     },
     "execution_count": 74,
     "metadata": {},
     "output_type": "execute_result"
    }
   ],
   "source": [
    "finals_A = pd.DataFrame(finals_A.groupby(['week'])['sum_click'].sum()).reset_index()\n",
    "finals_A"
   ]
  },
  {
   "cell_type": "code",
   "execution_count": 75,
   "metadata": {},
   "outputs": [
    {
     "data": {
      "image/png": "[encoded data removed]",
      "text/plain": [
       "<Figure size 1152x576 with 1 Axes>"
      ]
     },
     "metadata": {
      "needs_background": "light"
     },
     "output_type": "display_data"
    }
   ],
   "source": [
    "fig= plt.figure(figsize=(16,8)) \n",
    "ax1 = plt.plot( 'week', 'sum_click', data=finals_A, marker='', color='#003366', linewidth=2)\n",
    "plt.xticks(np.arange(1,14,1))\n",
    "plt.axvspan(8, 10, color='#cccccc', alpha=0.25)\n",
    "plt.xlabel('Week', fontsize=12)\n",
    "plt.ylabel('No. of Clicks', fontsize=12)\n",
    "plt.annotate('Final Exam\\n    Period', (8.45,500), fontsize=14)\n",
    "plt.title('Frequency of Revision close to Final Exam', loc='center',pad=15, fontsize=15);"
   ]
  },
  {
   "cell_type": "markdown",
   "metadata": {},
   "source": [
    "<font color=blue> Over here, we plot the interaction of activity 3 months before the last day of the module (day 269). An interesting point we can observe from above is <b>the decrease of frequency of revision between week 7 and 8 leading up to the exam period.</b> As the dataset did not mention the date of the final exam, <b>a probable guess would be that the exam period is likely to be between week 8 and 10 (late May or early Jun), seeing how the interaction with the material dropped significantly after week 10. </b>"
   ]
  },
  {
   "cell_type": "code",
   "execution_count": 76,
   "metadata": {},
   "outputs": [
    {
     "data": {
      "text/plain": [
       "activity_type\n",
       "dataplus           348\n",
       "forumng          77858\n",
       "glossary            96\n",
       "homepage         56528\n",
       "oucollaborate       62\n",
       "oucontent        96783\n",
       "resource          5265\n",
       "subpage          13044\n",
       "url               4594\n",
       "Name: sum_click, dtype: int64"
      ]
     },
     "execution_count": 76,
     "metadata": {},
     "output_type": "execute_result"
    }
   ],
   "source": [
    "finals.groupby('activity_type')['sum_click'].sum()"
   ]
  },
  {
   "cell_type": "markdown",
   "metadata": {},
   "source": [
    "## 5. Future Considerations "
   ]
  },
  {
   "cell_type": "markdown",
   "metadata": {},
   "source": [
    "From this project, we discovered that distinction students study a lot harder than non-distinction students as they interacted with the material more. For future considerations, the studentAssessment.csv includes the grade scores for the individual components before the final exam. This could be used to predict the probability of scoring a distinction for a module through regression. This prediction could be further extended to gauging the difficulty of the final exam and the amount of time a student should dedicate to the subject with minimum effort and maximum results. I wished to explore further the type of material in this dataset. Unfortunately, they are categorized into categories which are not specific enough to gather insights on any behaviour or material type (lectures, tutorials, online quizzes) that students should focus on to benefit the most."
   ]
  }
 ],
 "metadata": {
  "kernelspec": {
   "display_name": "Python 3",
   "language": "python",
   "name": "python3"
  },
  "language_info": {
   "codemirror_mode": {
    "name": "ipython",
    "version": 3
   },
   "file_extension": ".py",
   "mimetype": "text/x-python",
   "name": "python",
   "nbconvert_exporter": "python",
   "pygments_lexer": "ipython3",
   "version": "3.7.3"
  }
 },
 "nbformat": 4,
 "nbformat_minor": 2
}
